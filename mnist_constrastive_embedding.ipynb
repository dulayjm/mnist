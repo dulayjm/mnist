{
 "cells": [
  {
   "cell_type": "code",
   "execution_count": null,
   "metadata": {},
   "outputs": [],
   "source": [
    "from mlxtend.data import loadlocal_mnist\n",
    "imgs, labels = loadlocal_mnist(\n",
    "        images_path='/Users/justindulay/research/mnist/train-images-idx3-ubyte', \n",
    "        labels_path='/Users/justindulay/research/mnist/train-labels-idx1-ubyte')"
   ]
  },
  {
   "cell_type": "code",
   "execution_count": null,
   "metadata": {},
   "outputs": [],
   "source": [
    "# images are 28x28\n",
    "# each row in the np imgs is 784-long\n",
    "\n",
    "\n"
   ]
  }
 ],
 "metadata": {
  "language_info": {
   "codemirror_mode": {
    "name": "ipython",
    "version": 3
   },
   "file_extension": ".py",
   "mimetype": "text/x-python",
   "name": "python",
   "nbconvert_exporter": "python",
   "pygments_lexer": "ipython3",
   "version": "3.7.6-final"
  },
  "orig_nbformat": 2,
  "kernelspec": {
   "name": "python37664bitmnistenvvenvee436942ee214161ab5a69540477d9a0",
   "display_name": "Python 3.7.6 64-bit ('mnist_env': venv)"
  }
 },
 "nbformat": 4,
 "nbformat_minor": 2
}